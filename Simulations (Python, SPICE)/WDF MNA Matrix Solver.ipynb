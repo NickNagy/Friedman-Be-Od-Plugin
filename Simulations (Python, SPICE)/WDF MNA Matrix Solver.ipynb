{
 "cells": [
  {
   "cell_type": "code",
   "execution_count": 12,
   "metadata": {},
   "outputs": [
    {
     "name": "stdout",
     "output_type": "stream",
     "text": [
      "Rb\n"
     ]
    }
   ],
   "source": [
    "R = \"Ra\"\n",
    "print(R[0] + chr(ord(R[1])+1))"
   ]
  },
  {
   "cell_type": "code",
   "execution_count": 2,
   "metadata": {
    "collapsed": true
   },
   "outputs": [],
   "source": [
    "from __future__ import division\n",
    "from sympy import *"
   ]
  },
  {
   "cell_type": "code",
   "execution_count": 3,
   "metadata": {
    "collapsed": true
   },
   "outputs": [],
   "source": [
    "def get_scattering_matrix(X, v_n, _i, j_etc):\n",
    "    '''\n",
    "    params\n",
    "        X: a square MNA matrix as described https://pureadmin.qub.ac.uk/ws/portalfiles/portal/158209014/1570255463.pdf after the datum node has been removed\n",
    "            entries in X are expected to be in terms of conductances symbols (GA, GB, GC...)\n",
    "        v_n: number of nodes through the adaptor\n",
    "        i: number of resistive sources attached to the adaptor\n",
    "        j_etc: number of VCVS, nullors, etc.\n",
    "    '''\n",
    "    I = eye(_i)\n",
    "    R = eye(_i)\n",
    "    str = \"Ra\"\n",
    "    # create R matrix and R symbols\n",
    "    for n in range(_i):\n",
    "        R[n,n] = symbols(str)\n",
    "        str = str[0] + chr(ord(str[1]) + 1)\n",
    "    print(\"inverting X...\")\n",
    "    Xinv = X.inv()\n",
    "    zRz = zeros(_i, v_n).row_join(R).row_join(zeros(_i, j_etc))\n",
    "    zIzT = zeros(_i, v_n).row_join(I).row_join(zeros(_i, j_etc)).T\n",
    "    print(\"computing scattering matrix S...\")\n",
    "    S = I + 2*zRz*Xinv*zIzT\n",
    "    str = \"GA\"\n",
    "    print(\"substituting resistances...\")\n",
    "    for n in range(_i):\n",
    "        G = symbols(str)\n",
    "        S = S.subs({G: 1/(R[n,n])})\n",
    "        str = str[0] + chr(ord(str[1]) + 1)\n",
    "    print(\"simplifying...\")\n",
    "    S = S.applyfunc(simplify)\n",
    "    return S"
   ]
  },
  {
   "cell_type": "code",
   "execution_count": 4,
   "metadata": {
    "collapsed": true
   },
   "outputs": [],
   "source": [
    "GA = symbols('GA')\n",
    "GB = symbols('GB')\n",
    "GC = symbols('GC')\n",
    "GD = symbols('GD')\n",
    "GE = symbols('GE')\n",
    "GF = symbols('GF')\n",
    "\n",
    "# Circuits from here: https://1.bp.blogspot.com/-FFC5U2CNcKM/WcVUpTksN0I/AAAAAAAAAsY/U6cdl102b24YAOVcN5ppeBseXtux4QKxgCLcBGAs/s1600/Thermionic%2BDistortion%2BSchematic%2BHighlighted.png\n",
    "\n",
    "'''\n",
    "Bass control\n",
    "A:\n",
    "B:\n",
    "C:\n",
    "D:\n",
    "E:\n",
    "F:\n",
    "'''\n",
    "MNA_BassControl = Matrix([\n",
    "    [GD+GE, 0, 0, 0, 0, 0, 0, -GD, -GE, 0, 0, -1, 0, 0, 0, 0, 1],\n",
    "    [0, GB, 0, 0, 0, -GB, 0, 0, 0, 0, 0, 0, -1, 0, 0, 0, 0],\n",
    "    [0, 0, GC+GF, 0, 0, 0, -GC, 0, 0, -GF, 0, 0, 0, -1, 0, 0, 0],\n",
    "    [0, 0, 0, GA, -GA, 0, 0, 0, 0, 0, 0, 0, 0, 0, 0, 0, 0],\n",
    "    [0, 0, 0, -GA, GA, 0, 0, 0, 0, 0, 1, 0, 0, 0, 0, 0, 0],\n",
    "    [0, -GB, 0, 0, 0, GB, 0, 0, 0, 0, 0, 1, 0, 0, 0, 0, 0],\n",
    "    [0, 0, -GC, 0, 0, 0, GC, 0, 0, 0, 0, 0, 1, 0, 0, 0, 0],\n",
    "    [-GD, 0, 0, 0, 0, 0, 0, GD, 0, 0, 0, 0, 0, 1, 0, 0, 0],\n",
    "    [-GE, 0, 0, 0, 0, 0, 0, 0, GE, 0, 0, 0, 0, 0, 1, 0, 0],\n",
    "    [0, 0, -GF, 0, 0, 0, 0, 0, 0, GF, 0, 0, 0, 0, 0, 1, 0],\n",
    "    [0, 0, 0, 0, 1, 0, 0, 0, 0, 0, 0, 0, 0, 0, 0, 0, 0],\n",
    "    [-1, 0, 0, 0, 0, 1, 0, 0, 0, 0, 0, 0, 0, 0, 0, 0, 0],\n",
    "    [0, -1, 0, 0, 0, 0, 1, 0, 0, 0, 0, 0, 0, 0, 0, 0, 0],\n",
    "    [0, 0, -1, 0, 0, 0, 0, 1, 0, 0, 0, 0, 0, 0, 0, 0, 0],\n",
    "    [0, 0, 0, 0, 0, 0, 0, 0, 1, 0, 0, 0, 0, 0, 0, 0, 0],\n",
    "    [0, 0, 0, 0, 0, 0, 0, 0, 0, 1, 0, 0, 0, 0, 0, 0, 0],\n",
    "    [0, 1, 0, -1, 0, 0, 0, 0, 0, 0, 0, 0, 0, 0, 0, 0, 0]\n",
    "])\n",
    "\n",
    "'''\n",
    "2nd gain stage\n",
    "A: parallel adaptor connecting diode pair and GAIN pot\n",
    "B: 47pF capacitor\n",
    "C: load resistor\n",
    "D: resistive voltage source (signal in)\n",
    "E: series adaptor connecting 100nF capacitor and 22K resistor\n",
    "F: 22K resistor\n",
    "'''\n",
    "MNA_GainStage2 = Matrix([\n",
    "    [GA+GB+GC, 0, 0, 0, 0, 0, 0, -GA, -GB, -GC, 0, 0, 0, 0, 0, 0, 1],\n",
    "    [0, GD, -GD, 0, 0, 0, 0, 0, 0, 0, 0, 0, 0, 1, 0, 0, 0],\n",
    "    [0, -GD, GD, 0, 0, 0, 0, 0, 0, 0, 0, 0, 0, 0, 0, 0, 0],\n",
    "    [0, 0, 0, GE, -GE, 0, 0, 0, 0, 0, 0, 0, 0, 0, 1, 0, 0],\n",
    "    [0, 0, 0, -GE, GE, 0, 0, 0, 0, 0, 0, -1, 0, 0, 0, -1, 0],\n",
    "    [0, 0, 0, 0, 0, GF, -GF, 0, 0, 0, 0, 0, 0, 0, 0, 1, 0],\n",
    "    [0, 0, 0, 0, 0, -GF, GF, 0, 0, 0, -1, 0, 0, 0, 0, 0, 0],\n",
    "    [-GA, 0, 0, 0, 0, 0, 0, GA, 0, 0, 1, 0, 0, 0, 0, 0, 0],\n",
    "    [-GB, 0, 0, 0, 0, 0, 0, 0, GB, 0, 0, 1, 0, 0, 0, 0, 0],\n",
    "    [-GC, 0, 0, 0, 0, 0, 0, 0, 0, GC, 0, 0, 1, 0, 0, 0, 0],\n",
    "    [0, 0, 0, 0, 0, 0, -1, 1, 0, 0, 0, 0, 0, 0, 0, 0, 0],\n",
    "    [0, 0, 0, 0, -1, 0, 0, 0, 1, 0, 0, 0, 0, 0, 0, 0, 0],\n",
    "    [0, 0, 0, 0, 0, 0, 0, 0, 0, 1, 0, 0, 0, 0, 0, 0, 0],\n",
    "    [0, 1, 0, 0, 0, 0, 0, 0, 0, 0, 0, 0, 0, 0, 0, 0, 0],\n",
    "    [0, 0, 0, 1, 0, 0, 0, 0, 0, 0, 0, 0, 0, 0, 0, 0, 0],\n",
    "    [0, 0, 0, 0, -1, 1, 0, 0, 0, 0, 0, 0, 0, 0, 0, 0, 0],\n",
    "    [0, 0, -1, 0, 1, 0, 0, 0, 0, 0, 0, 0, 0, 0, 0, 0, 0]\n",
    "])\n",
    "\n",
    "'''\n",
    "3rd gain stage\n",
    "A: parallel adaptor connecting diode pair and 120pF capacitor\n",
    "B: 220K resistor\n",
    "C: 22K resistor\n",
    "D: series adaptor connecting signal in, 47nF capacitor, and 22K resistor\n",
    "E: resistive voltage source VREF\n",
    "F: load resistor\n",
    "'''\n",
    "MNA_GainStage3 = Matrix([\n",
    "    [GA+GC+GF, 0, 0, 0, 0, -GC, 0, 0, -GA, -GF, 0, 0, 0, 0, 0, 0, 1],\n",
    "    [0, GE, -GE, 0, 0, 0, 0, 0, 0, 0, 0, 0, 0, 0, 1, 0, 0],\n",
    "    [0, -GE, GD+GE, -GD, 0, 0, 0, 0, 0, 0, 0, 0, 0, 0, 0, 0, 0],\n",
    "    [0, 0, -GD, GD, 0, 0, 0, 0, 0, 0, 0, 0, 0, 1, 0, 0, 0],\n",
    "    [0, 0, 0, 0, 0, 0, 0, 0, 0, 0, 0, -1, -1, 0, 0, 0, 0],\n",
    "    [-GC, 0, 0, 0, 0, GC, 0, 0, 0, 0, 0, 0, 1, 0, 0, 0, 0],\n",
    "    [0, 0, 0, 0, 0, 0, GB, -GB, 0, 0, 0, 1, 0, 0, 0, 0, 0],\n",
    "    [0, 0, 0, 0, 0, 0, -GB, GB, 0, 0, -1, 0, 0, 0, 0, 0, 0],\n",
    "    [-GA, 0, 0, 0, 0, 0, 0, 0, GA, 0, 1, 0, 0, 0, 0, 0, 0],\n",
    "    [-GF, 0, 0, 0, 0, 0, 0, 0, 0, GF, 0, 0, 0, 0, 0, 1, 0],\n",
    "    [0, 0, 0, 0, 0, 0, 0, -1, 1, 0, 0, 0, 0, 0, 0, 0, 0],\n",
    "    [0, 0, 0, 0, -1, 0, 1, 0, 0, 0, 0, 0, 0, 0, 0, 0, 0],\n",
    "    [0, 0, 0, 0, -1, 1, 0, 0, 0, 0, 0, 0, 0, 0, 0, 0, 0],\n",
    "    [0, 0, 0, 1, 0, 0, 0, 0, 0, 0, 0, 0, 0, 0, 0, 0, 0],\n",
    "    [0, 1, 0, 0, 0, 0, 0, 0, 0, 0, 0, 0, 0, 0, 0, 0, 0],\n",
    "    [0, 0, 0, 0, 0, 0, 0, 0, 0, 1, 0, 0, 0, 0, 0, 0, 0],\n",
    "    [0, 0, -1, 0, 1, 0, 0, 0, 0, 0, 0, 0, 0, 0, 0, 0, 0]\n",
    "])\n",
    "\n",
    "'''\n",
    "4th gain stage\n",
    "A: ideal voltage source VREF\n",
    "B: 10K resistive voltage source (signal in)\n",
    "C: 10K resistor\n",
    "D: parallel adaptor connecting 100pF capacitor and TRIM pot\n",
    "E: load resistor\n",
    "'''\n",
    "MNA_GainStage4 = Matrix([\n",
    "    [GD+GE, 0, 0, 0, 0, 0, 0, -GD, -GE, 0, 0, 0, 0, 0, 1],\n",
    "    [0, GA, -GA, 0, 0, 0, 0, 0, 0, 1, 0, 0, 0, 0, 0],\n",
    "    [0, -GA, GA, 0, 0, 0, 0, 0, 0, 0, 0, 0, 0, 0, 0],\n",
    "    [0, 0, 0, GB, -GB, 0, 0, 0, 0, 0, 1, 0, 0, 0, 0],\n",
    "    [0, 0, 0, -GB, GB, 0, 0, 0, 0, 0, 0, -1, 0, 0, 0],\n",
    "    [0, 0, 0, 0, 0, GC, -GC, 0, 0, 0, 0, 1, 0, 0, 0],\n",
    "    [0, 0, 0, 0, 0, -GC, GC, 0, 0, 0, 0, 0, -1, 0, 0],\n",
    "    [-GD, 0, 0, 0, 0, 0, 0, GD, 0, 0, 0, 0, 1, 0, 0],\n",
    "    [-GE, 0, 0, 0, 0, 0, 0, 0, GE, 0, 0, 0, 0, 1, 0],\n",
    "    [0, 1, 0, 0, 0, 0, 0, 0, 0, 0, 0, 0, 0, 0, 0],\n",
    "    [0, 0, 0, 1, 0, 0, 0, 0, 0, 0, 0, 0, 0, 0, 0],\n",
    "    [0, 0, 0, 0, -1, 1, 0, 0, 0, 0, 0, 0, 0, 0, 0],\n",
    "    [0, 0, 0, 0, 0, 0, -1, 1, 0, 0, 0, 0, 0, 0, 0],\n",
    "    [0, 0, 0, 0, 0, 0, 0, 0, 1, 0, 0, 0, 0, 0, 0],\n",
    "    [0, 0, -1, 0, 1, 0, 0, 0, 0, 0, 0, 0, 0, 0, 0]\n",
    "])"
   ]
  },
  {
   "cell_type": "code",
   "execution_count": 18,
   "metadata": {},
   "outputs": [
    {
     "name": "stdout",
     "output_type": "stream",
     "text": [
      "inverting X...\n",
      "computing scattering matrix S...\n",
      "substituting resistances...\n",
      "simplifying...\n"
     ]
    }
   ],
   "source": [
    "S_BassControl = get_scattering_matrix(MNA_BassControl, 10, 6, 1)"
   ]
  },
  {
   "cell_type": "code",
   "execution_count": 20,
   "metadata": {},
   "outputs": [
    {
     "data": {
      "text/latex": [
       "$\\displaystyle \\left[\\begin{matrix}1 & 0 & 0 & 0 & 0 & 0\\\\- \\frac{2 Rb Rd}{Rb Rf + Rc Rd + Rc Rf + Rd Rf} & \\frac{- Rb Rf + Rc Rd + Rc Rf + Rd Rf}{Rb Rf + Rc Rd + Rc Rf + Rd Rf} & - \\frac{2 Rb \\left(Rd + Rf\\right)}{Rb Rf + Rc Rd + Rc Rf + Rd Rf} & - \\frac{2 Rb Rf}{Rb Rf + Rc Rd + Rc Rf + Rd Rf} & 0 & \\frac{2 Rb Rd}{Rb Rf + Rc Rd + Rc Rf + Rd Rf}\\\\- \\frac{2 Rc Rd}{Rb Rf + Rc Rd + Rc Rf + Rd Rf} & - \\frac{2 Rc Rf}{Rb Rf + Rc Rd + Rc Rf + Rd Rf} & \\frac{Rb Rf - Rc Rd - Rc Rf + Rd Rf}{Rb Rf + Rc Rd + Rc Rf + Rd Rf} & - \\frac{2 Rc Rf}{Rb Rf + Rc Rd + Rc Rf + Rd Rf} & 0 & \\frac{2 Rc Rd}{Rb Rf + Rc Rd + Rc Rf + Rd Rf}\\\\\\frac{2 Rd \\left(Rb + Rc\\right)}{Rb Rf + Rc Rd + Rc Rf + Rd Rf} & - \\frac{2 Rd \\left(Rc + Rf\\right)}{Rb Rf + Rc Rd + Rc Rf + Rd Rf} & \\frac{2 Rd \\left(Rb - Rf\\right)}{Rb Rf + Rc Rd + Rc Rf + Rd Rf} & \\frac{Rb Rf - Rc Rd + Rc Rf - Rd Rf}{Rb Rf + Rc Rd + Rc Rf + Rd Rf} & 0 & - \\frac{2 Rd \\left(Rb + Rc\\right)}{Rb Rf + Rc Rd + Rc Rf + Rd Rf}\\\\\\frac{2 \\left(Rb Rd + Rb Rf + Rc Rd + Rc Rf + Rd Rf\\right)}{Rb Rf + Rc Rd + Rc Rf + Rd Rf} & - \\frac{2 Rc Rd + 2 Rc Rf + 2 Rd Rf}{Rb Rf + Rc Rd + Rc Rf + Rd Rf} & \\frac{2 Rb \\left(Rd + Rf\\right)}{Rb Rf + Rc Rd + Rc Rf + Rd Rf} & \\frac{2 Rb Rf}{Rb Rf + Rc Rd + Rc Rf + Rd Rf} & -1 & - \\frac{2 Rb Rd}{Rb Rf + Rc Rd + Rc Rf + Rd Rf}\\\\\\frac{2 Rf \\left(Rb + Rc + Rd\\right)}{Rb Rf + Rc Rd + Rc Rf + Rd Rf} & - \\frac{2 Rc Rf}{Rb Rf + Rc Rd + Rc Rf + Rd Rf} & \\frac{2 Rf \\left(Rb + Rd\\right)}{Rb Rf + Rc Rd + Rc Rf + Rd Rf} & - \\frac{2 Rc Rf}{Rb Rf + Rc Rd + Rc Rf + Rd Rf} & 0 & \\frac{- Rb Rf + Rc Rd - Rc Rf - Rd Rf}{Rb Rf + Rc Rd + Rc Rf + Rd Rf}\\end{matrix}\\right]$"
      ],
      "text/plain": [
       "Matrix([\n",
       "[                                                                        1,                                                                0,                                                               0,                                                               0,  0,                                                                0],\n",
       "[                                 -2*Rb*Rd/(Rb*Rf + Rc*Rd + Rc*Rf + Rd*Rf), (-Rb*Rf + Rc*Rd + Rc*Rf + Rd*Rf)/(Rb*Rf + Rc*Rd + Rc*Rf + Rd*Rf),                 -2*Rb*(Rd + Rf)/(Rb*Rf + Rc*Rd + Rc*Rf + Rd*Rf),                        -2*Rb*Rf/(Rb*Rf + Rc*Rd + Rc*Rf + Rd*Rf),  0,                          2*Rb*Rd/(Rb*Rf + Rc*Rd + Rc*Rf + Rd*Rf)],\n",
       "[                                 -2*Rc*Rd/(Rb*Rf + Rc*Rd + Rc*Rf + Rd*Rf),                         -2*Rc*Rf/(Rb*Rf + Rc*Rd + Rc*Rf + Rd*Rf), (Rb*Rf - Rc*Rd - Rc*Rf + Rd*Rf)/(Rb*Rf + Rc*Rd + Rc*Rf + Rd*Rf),                        -2*Rc*Rf/(Rb*Rf + Rc*Rd + Rc*Rf + Rd*Rf),  0,                          2*Rc*Rd/(Rb*Rf + Rc*Rd + Rc*Rf + Rd*Rf)],\n",
       "[                           2*Rd*(Rb + Rc)/(Rb*Rf + Rc*Rd + Rc*Rf + Rd*Rf),                  -2*Rd*(Rc + Rf)/(Rb*Rf + Rc*Rd + Rc*Rf + Rd*Rf),                  2*Rd*(Rb - Rf)/(Rb*Rf + Rc*Rd + Rc*Rf + Rd*Rf), (Rb*Rf - Rc*Rd + Rc*Rf - Rd*Rf)/(Rb*Rf + Rc*Rd + Rc*Rf + Rd*Rf),  0,                  -2*Rd*(Rb + Rc)/(Rb*Rf + Rc*Rd + Rc*Rf + Rd*Rf)],\n",
       "[2*(Rb*Rd + Rb*Rf + Rc*Rd + Rc*Rf + Rd*Rf)/(Rb*Rf + Rc*Rd + Rc*Rf + Rd*Rf),   -(2*Rc*Rd + 2*Rc*Rf + 2*Rd*Rf)/(Rb*Rf + Rc*Rd + Rc*Rf + Rd*Rf),                  2*Rb*(Rd + Rf)/(Rb*Rf + Rc*Rd + Rc*Rf + Rd*Rf),                         2*Rb*Rf/(Rb*Rf + Rc*Rd + Rc*Rf + Rd*Rf), -1,                         -2*Rb*Rd/(Rb*Rf + Rc*Rd + Rc*Rf + Rd*Rf)],\n",
       "[                      2*Rf*(Rb + Rc + Rd)/(Rb*Rf + Rc*Rd + Rc*Rf + Rd*Rf),                         -2*Rc*Rf/(Rb*Rf + Rc*Rd + Rc*Rf + Rd*Rf),                  2*Rf*(Rb + Rd)/(Rb*Rf + Rc*Rd + Rc*Rf + Rd*Rf),                        -2*Rc*Rf/(Rb*Rf + Rc*Rd + Rc*Rf + Rd*Rf),  0, (-Rb*Rf + Rc*Rd - Rc*Rf - Rd*Rf)/(Rb*Rf + Rc*Rd + Rc*Rf + Rd*Rf)]])"
      ]
     },
     "metadata": {},
     "output_type": "display_data"
    }
   ],
   "source": [
    "display(S_BassControl)"
   ]
  },
  {
   "cell_type": "code",
   "execution_count": 5,
   "metadata": {},
   "outputs": [
    {
     "name": "stdout",
     "output_type": "stream",
     "text": [
      "inverting X...\n",
      "computing scattering matrix S...\n",
      "substituting resistances...\n",
      "simplifying...\n"
     ]
    },
    {
     "data": {
      "text/plain": [
       "Matrix([\n",
       "[(-Ra + Rb + Rf)/(Ra + Rb + Rf),           2*Ra/(Ra + Rb + Rf),  0,                                   2*Ra*Rb/(Re*(Ra + Rb + Rf)),        -2*Ra*Rb/(Re*(Ra + Rb + Rf)),          -2*Ra/(Ra + Rb + Rf)],\n",
       "[           2*Rb/(Ra + Rb + Rf), (Ra - Rb + Rf)/(Ra + Rb + Rf),  0,                            2*Rb*(Ra + Rf)/(Re*(Ra + Rb + Rf)), -2*Rb*(Ra + Rf)/(Re*(Ra + Rb + Rf)),           2*Rb/(Ra + Rb + Rf)],\n",
       "[           2*Rb/(Ra + Rb + Rf),    2*(Ra + Rf)/(Ra + Rb + Rf), -1, 2*(Ra*Rb + Ra*Re + Rb*Re + Rb*Rf + Re*Rf)/(Re*(Ra + Rb + Rf)), -2*Rb*(Ra + Rf)/(Re*(Ra + Rb + Rf)),           2*Rb/(Ra + Rb + Rf)],\n",
       "[                             0,                             0,  0,                                                             1,                                   0,                             0],\n",
       "[                             0,                             0,  0,                                                             2,                                  -1,                             0],\n",
       "[          -2*Rf/(Ra + Rb + Rf),           2*Rf/(Ra + Rb + Rf),  0,                                   2*Rb*Rf/(Re*(Ra + Rb + Rf)),        -2*Rb*Rf/(Re*(Ra + Rb + Rf)), (Ra + Rb - Rf)/(Ra + Rb + Rf)]])"
      ]
     },
     "metadata": {},
     "output_type": "display_data"
    }
   ],
   "source": [
    "S_GainStage2 = get_scattering_matrix(MNA_GainStage2, 10, 6, 1)\n",
    "display(S_GainStage2)"
   ]
  },
  {
   "cell_type": "code",
   "execution_count": 6,
   "metadata": {},
   "outputs": [
    {
     "name": "stdout",
     "output_type": "stream",
     "text": [
      "inverting X...\n",
      "computing scattering matrix S...\n",
      "substituting resistances...\n",
      "simplifying...\n"
     ]
    },
    {
     "data": {
      "text/plain": [
       "Matrix([\n",
       "[(-Ra + Rb + Rc)/(Ra + Rb + Rc),          -2*Ra/(Ra + Rb + Rc),           2*Ra/(Ra + Rb + Rc),                    0,                   0,  0],\n",
       "[          -2*Rb/(Ra + Rb + Rc), (Ra - Rb + Rc)/(Ra + Rb + Rc),           2*Rb/(Ra + Rb + Rc),                    0,                   0,  0],\n",
       "[           2*Rc/(Ra + Rb + Rc),           2*Rc/(Ra + Rb + Rc), (Ra + Rb - Rc)/(Ra + Rb + Rc),                    0,                   0,  0],\n",
       "[                             0,                             0,                             0, (-Rd + Re)/(Rd + Re),      2*Rd/(Rd + Re),  0],\n",
       "[                             0,                             0,                             0,       2*Re/(Rd + Re), (Rd - Re)/(Rd + Re),  0],\n",
       "[           2*Rc/(Ra + Rb + Rc),           2*Rc/(Ra + Rb + Rc),    2*(Ra + Rb)/(Ra + Rb + Rc),       2*Re/(Rd + Re),      2*Rd/(Rd + Re), -1]])"
      ]
     },
     "metadata": {},
     "output_type": "display_data"
    }
   ],
   "source": [
    "S_GainStage3 = get_scattering_matrix(MNA_GainStage3, 10, 6, 1)\n",
    "display(S_GainStage3)"
   ]
  },
  {
   "cell_type": "code",
   "execution_count": 7,
   "metadata": {},
   "outputs": [
    {
     "name": "stdout",
     "output_type": "stream",
     "text": [
      "inverting X...\n",
      "computing scattering matrix S...\n",
      "substituting resistances...\n",
      "simplifying...\n"
     ]
    },
    {
     "data": {
      "text/plain": [
       "Matrix([\n",
       "[                  1,                 0, 0, 0,  0],\n",
       "[                  2,                -1, 0, 0,  0],\n",
       "[            2*Rc/Rb,          -2*Rc/Rb, 1, 0,  0],\n",
       "[            2*Rd/Rb,          -2*Rd/Rb, 0, 1,  0],\n",
       "[2*(Rb + Rc + Rd)/Rb, -(2*Rc + 2*Rd)/Rb, 2, 2, -1]])"
      ]
     },
     "metadata": {},
     "output_type": "display_data"
    }
   ],
   "source": [
    "S_GainStage4 = get_scattering_matrix(MNA_GainStage4, 9, 5, 1)\n",
    "display(S_GainStage4)"
   ]
  },
  {
   "cell_type": "markdown",
   "metadata": {},
   "source": [
    "For gain stages 2 and 3, port A of the R-type adaptor can successfully be adapted by setting Ra such that S<sub>aa</sub> = 0.\n",
    "\n",
    "| Gain Stage | Ra |\n",
    "| ---------- | -- |\n",
    "| 2 | Rb + Rf |\n",
    "| 3 | Rb + Rc | "
   ]
  },
  {
   "cell_type": "code",
   "execution_count": 10,
   "metadata": {},
   "outputs": [
    {
     "name": "stdout",
     "output_type": "stream",
     "text": [
      "Gain Stage 2 scattering matrix, port A adapted:\n"
     ]
    },
    {
     "data": {
      "text/plain": [
       "Matrix([\n",
       "[            0,                     1,  0,                                                Rb/Re,                         -Rb/Re,           -1],\n",
       "[ Rb/(Rb + Rf),          Rf/(Rb + Rf),  0,                        Rb*(Rb + 2*Rf)/(Re*(Rb + Rf)), -Rb*(Rb + 2*Rf)/(Re*(Rb + Rf)), Rb/(Rb + Rf)],\n",
       "[ Rb/(Rb + Rf), (Rb + 2*Rf)/(Rb + Rf), -1, (Rb**2 + 2*Rb*Re + 2*Rb*Rf + 2*Re*Rf)/(Re*(Rb + Rf)), -Rb*(Rb + 2*Rf)/(Re*(Rb + Rf)), Rb/(Rb + Rf)],\n",
       "[            0,                     0,  0,                                                    1,                              0,            0],\n",
       "[            0,                     0,  0,                                                    2,                             -1,            0],\n",
       "[-Rf/(Rb + Rf),          Rf/(Rb + Rf),  0,                                 Rb*Rf/(Re*(Rb + Rf)),          -Rb*Rf/(Re*(Rb + Rf)), Rb/(Rb + Rf)]])"
      ]
     },
     "metadata": {},
     "output_type": "display_data"
    },
    {
     "name": "stdout",
     "output_type": "stream",
     "text": [
      "Gain Stage 3 scattering matrix, port A adapted:\n"
     ]
    },
    {
     "data": {
      "text/plain": [
       "Matrix([\n",
       "[            0,           -1,                     1,                    0,                   0,  0],\n",
       "[-Rb/(Rb + Rc), Rc/(Rb + Rc),          Rb/(Rb + Rc),                    0,                   0,  0],\n",
       "[ Rc/(Rb + Rc), Rc/(Rb + Rc),          Rb/(Rb + Rc),                    0,                   0,  0],\n",
       "[            0,            0,                     0, (-Rd + Re)/(Rd + Re),      2*Rd/(Rd + Re),  0],\n",
       "[            0,            0,                     0,       2*Re/(Rd + Re), (Rd - Re)/(Rd + Re),  0],\n",
       "[ Rc/(Rb + Rc), Rc/(Rb + Rc), (2*Rb + Rc)/(Rb + Rc),       2*Re/(Rd + Re),      2*Rd/(Rd + Re), -1]])"
      ]
     },
     "metadata": {},
     "output_type": "display_data"
    }
   ],
   "source": [
    "Ra = symbols(\"Ra\")\n",
    "Rb = symbols(\"Rb\")\n",
    "Rc = symbols(\"Rc\")\n",
    "Rf = symbols(\"Rf\")\n",
    "S_GainStage2 = S_GainStage2.subs({Ra: Rb+Rf}).applyfunc(simplify)\n",
    "S_GainStage3 = S_GainStage3.subs({Ra: Rb+Rc}).applyfunc(simplify)\n",
    "print(\"Gain Stage 2 scattering matrix, port A adapted:\")\n",
    "display(S_GainStage2)\n",
    "print(\"Gain Stage 3 scattering matrix, port A adapted:\")\n",
    "display(S_GainStage3)"
   ]
  },
  {
   "cell_type": "markdown",
   "metadata": {},
   "source": [
    "#Gain Stage 2 scattering matrix, port A adapted:\n",
    "Matrix([\n",
    "[            0,                     1,  0,                                                Rb/Re,                         -Rb/Re,           -1],\n",
    "[ Rb/(Rb + Rf),          Rf/(Rb + Rf),  0,                        Rb*(Rb + 2*Rf)/(Re*(Rb + Rf)), -Rb*(Rb + 2*Rf)/(Re*(Rb + Rf)), Rb/(Rb + Rf)],\n",
    "[ Rb/(Rb + Rf), (Rb + 2*Rf)/(Rb + Rf), -1, (Rb**2 + 2*Rb*Re + 2*Rb*Rf + 2*Re*Rf)/(Re*(Rb + Rf)), -Rb*(Rb + 2*Rf)/(Re*(Rb + Rf)), Rb/(Rb + Rf)],\n",
    "[            0,                     0,  0,                                                    1,                              0,            0],\n",
    "[            0,                     0,  0,                                                    2,                             -1,            0],\n",
    "[-Rf/(Rb + Rf),          Rf/(Rb + Rf),  0,                                 Rb*Rf/(Re*(Rb + Rf)),          -Rb*Rf/(Re*(Rb + Rf)), Rb/(Rb + Rf)]])\n",
    "\n",
    "#Gain Stage 3 scattering matrix, port A adapted:\n",
    "Matrix([\n",
    "[            0,           -1,                     1,                    0,                   0,  0],\n",
    "[-Rb/(Rb + Rc), Rc/(Rb + Rc),          Rb/(Rb + Rc),                    0,                   0,  0],\n",
    "[ Rc/(Rb + Rc), Rc/(Rb + Rc),          Rb/(Rb + Rc),                    0,                   0,  0],\n",
    "[            0,            0,                     0, (-Rd + Re)/(Rd + Re),      2*Rd/(Rd + Re),  0],\n",
    "[            0,            0,                     0,       2*Re/(Rd + Re), (Rd - Re)/(Rd + Re),  0],\n",
    "[ Rc/(Rb + Rc), Rc/(Rb + Rc), (2*Rb + Rc)/(Rb + Rc),       2*Re/(Rd + Re),      2*Rd/(Rd + Re), -1]])"
   ]
  }
 ],
 "metadata": {
  "kernelspec": {
   "display_name": "Python 3",
   "language": "python",
   "name": "python3"
  },
  "language_info": {
   "codemirror_mode": {
    "name": "ipython",
    "version": 3
   },
   "file_extension": ".py",
   "mimetype": "text/x-python",
   "name": "python",
   "nbconvert_exporter": "python",
   "pygments_lexer": "ipython3",
   "version": "3.6.3"
  }
 },
 "nbformat": 4,
 "nbformat_minor": 5
}
